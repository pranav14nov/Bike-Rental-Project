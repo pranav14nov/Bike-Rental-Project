{
 "cells": [
  {
   "cell_type": "code",
   "execution_count": 107,
   "metadata": {
    "collapsed": true
   },
   "outputs": [],
   "source": [
    "import pandas as pd\n",
    "import numpy as np\n",
    "from sklearn.model_selection import train_test_split\n",
    "from sklearn.ensemble import GradientBoostingRegressor\n",
    "from sklearn.model_selection import GridSearchCV\n",
    "\n",
    "from sklearn.ensemble import RandomForestRegressor\n",
    "from sklearn.linear_model import LinearRegression\n",
    "from math import sqrt\n",
    "from sklearn.metrics import mean_squared_error"
   ]
  },
  {
   "cell_type": "code",
   "execution_count": 91,
   "metadata": {
    "collapsed": true
   },
   "outputs": [],
   "source": [
    "# Load dataset\n",
    "df =pd.read_csv(\"day.csv\")"
   ]
  },
  {
   "cell_type": "code",
   "execution_count": 92,
   "metadata": {},
   "outputs": [
    {
     "data": {
      "text/plain": [
       "731"
      ]
     },
     "execution_count": 92,
     "metadata": {},
     "output_type": "execute_result"
    }
   ],
   "source": [
    "# removing outliers if any\n",
    "q1 = df[\"cnt\"].quantile(0.25)\n",
    "q3 = df[\"cnt\"].quantile(0.75)\n",
    "iqr = q3-q1 #Interquartile range\n",
    "fence_low  = q1-1.5*iqr\n",
    "fence_high = q3+1.5*iqr\n",
    "df = df.loc[(df[\"cnt\"] > fence_low) & (df[\"cnt\"] < fence_high)]\n",
    "\n",
    "# Another way to detect outlier via 3 standard deviation rule\n",
    "len(df[((df.cnt - df.cnt.mean()) / df.cnt.std()).abs() < 3])\n",
    "\n",
    "\n",
    "# Seems like no outliers present"
   ]
  },
  {
   "cell_type": "code",
   "execution_count": 93,
   "metadata": {},
   "outputs": [],
   "source": [
    "# Converting categorical variables as dummies\n",
    "y=df[\"cnt\"].tolist()\n",
    "df = pd.concat([df, pd.get_dummies(df['mnth'],prefix=\"mnth\")], axis=1)\n",
    "df = pd.concat([df, pd.get_dummies(df['weekday'],prefix=\"weekday\")], axis=1)\n",
    "df = pd.concat([df, pd.get_dummies(df['weathersit'],prefix=\"weathersit\")], axis=1)\n",
    "df.drop( ['instant','mnth','weekday','weathersit', 'dteday', 'casual','registered','cnt'], axis=1, inplace=True)\n",
    "X=df.copy(deep=False)"
   ]
  },
  {
   "cell_type": "code",
   "execution_count": 94,
   "metadata": {},
   "outputs": [],
   "source": [
    "# Split dataset into train-test as 80:20 split\n",
    "X_train, X_test, y_train, y_test = train_test_split(X, y, test_size=0.2, random_state=42)"
   ]
  },
  {
   "cell_type": "code",
   "execution_count": 95,
   "metadata": {},
   "outputs": [],
   "source": [
    "# Loading different models\n",
    "clf1=RandomForestRegressor()\n",
    "clf2=GradientBoostingRegressor()\n",
    "clf3=LinearRegression()"
   ]
  },
  {
   "cell_type": "code",
   "execution_count": 96,
   "metadata": {},
   "outputs": [
    {
     "data": {
      "text/plain": [
       "LinearRegression(copy_X=True, fit_intercept=True, n_jobs=1, normalize=False)"
      ]
     },
     "execution_count": 96,
     "metadata": {},
     "output_type": "execute_result"
    }
   ],
   "source": [
    "# Training all 3 models\n",
    "clf1.fit(X_train,y_train)\n",
    "clf2.fit(X_train,y_train)\n",
    "clf3.fit(X_train,y_train)"
   ]
  },
  {
   "cell_type": "code",
   "execution_count": 97,
   "metadata": {},
   "outputs": [
    {
     "name": "stdout",
     "output_type": "stream",
     "text": [
      "RMSE for Random Forest Regressor:  693.2658981792133\n",
      "RMSE for Gradient Boosting Regressor:  651.8561014138761\n",
      "RMSE for Linear Regression Model:  793.2677819676381\n"
     ]
    }
   ],
   "source": [
    "# RMSE for all 3 models\n",
    "\n",
    "y_pred1=clf1.predict(X_test)\n",
    "y_pred2=clf2.predict(X_test)\n",
    "y_pred3=clf3.predict(X_test)\n",
    "\n",
    "print(\"RMSE for Random Forest Regressor: \",sqrt(mean_squared_error(y_pred1,y_test)))\n",
    "print(\"RMSE for Gradient Boosting Regressor: \",sqrt(mean_squared_error(y_pred2,y_test)))\n",
    "print(\"RMSE for Linear Regression Model: \",sqrt(mean_squared_error(y_pred3,y_test)))"
   ]
  },
  {
   "cell_type": "code",
   "execution_count": 98,
   "metadata": {
    "collapsed": true
   },
   "outputs": [],
   "source": [
    "#Seems Like Gradient Boosting is performing better than rest, Tuning Hyper Parameters for the same"
   ]
  },
  {
   "cell_type": "code",
   "execution_count": 109,
   "metadata": {},
   "outputs": [
    {
     "data": {
      "text/plain": [
       "GridSearchCV(cv=3, error_score='raise',\n",
       "       estimator=GradientBoostingRegressor(alpha=0.9, criterion='friedman_mse', init=None,\n",
       "             learning_rate=0.1, loss='ls', max_depth=3, max_features=None,\n",
       "             max_leaf_nodes=None, min_impurity_decrease=0.0,\n",
       "             min_impurity_split=None, min_samples_leaf=1,\n",
       "             min_samples_split=2, min_weight_fraction_leaf=0.0,\n",
       "             n_estimators=100, presort='auto', random_state=None,\n",
       "             subsample=1.0, verbose=0, warm_start=False),\n",
       "       fit_params=None, iid=True, n_jobs=1,\n",
       "       param_grid={'learning_rate': [0.1, 0.01, 0.001], 'max_depth': [3, 4, 6, 10, 15], 'max_features': [0.8, 0.6, None, 'log2', 'sqrt'], 'n_estimators': [50, 100, 200, 300, 1000]},\n",
       "       pre_dispatch='2*n_jobs', refit=True, return_train_score='warn',\n",
       "       scoring=None, verbose=0)"
      ]
     },
     "execution_count": 109,
     "metadata": {},
     "output_type": "execute_result"
    }
   ],
   "source": [
    "param_grid = {\n",
    "            'learning_rate': [0.1,0.01,0.001],\n",
    "            'max_depth': [3,4, 6, 10, 15],\n",
    "            'max_features': [0.8, 0.6,None,'log2','sqrt'],\n",
    "            'n_estimators': [50,100, 200, 300, 1000]\n",
    "        }\n",
    "        # Create a based model\n",
    "gbr = GradientBoostingRegressor()\n",
    "#Instantiate the grid search model\n",
    "clf = GridSearchCV(estimator = gbr, param_grid = param_grid,cv = 3)\n",
    "clf.fit(X_train, y_train)\n"
   ]
  },
  {
   "cell_type": "code",
   "execution_count": 116,
   "metadata": {},
   "outputs": [
    {
     "name": "stdout",
     "output_type": "stream",
     "text": [
      "RMSE for Gradient Boosting Regressor after HP tuning:  630.69867852846\n"
     ]
    }
   ],
   "source": [
    "y_pred=clf.predict(X_test)\n",
    "print(\"RMSE for Gradient Boosting Regressor after HP tuning: \",sqrt(mean_squared_error(y_pred,y_test)))"
   ]
  },
  {
   "cell_type": "code",
   "execution_count": 121,
   "metadata": {},
   "outputs": [],
   "source": [
    "# Example Input file\n",
    "X_test.to_csv(\"sample_input.csv\",index=False)"
   ]
  },
  {
   "cell_type": "code",
   "execution_count": 123,
   "metadata": {},
   "outputs": [],
   "source": [
    "newDF=pd.DataFrame()\n",
    "newDF[\"Predicted_values\"]=y_pred"
   ]
  },
  {
   "cell_type": "code",
   "execution_count": 125,
   "metadata": {},
   "outputs": [],
   "source": [
    "newDF.to_csv(\"sample_output.csv\",index=False)"
   ]
  },
  {
   "cell_type": "code",
   "execution_count": null,
   "metadata": {
    "collapsed": true
   },
   "outputs": [],
   "source": []
  }
 ],
 "metadata": {
  "kernelspec": {
   "display_name": "Python 3",
   "language": "python",
   "name": "python3"
  },
  "language_info": {
   "codemirror_mode": {
    "name": "ipython",
    "version": 3
   },
   "file_extension": ".py",
   "mimetype": "text/x-python",
   "name": "python",
   "nbconvert_exporter": "python",
   "pygments_lexer": "ipython3",
   "version": "3.6.3"
  }
 },
 "nbformat": 4,
 "nbformat_minor": 2
}
